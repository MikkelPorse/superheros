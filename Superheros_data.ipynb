{
 "cells": [
  {
   "cell_type": "markdown",
   "metadata": {},
   "source": [
    "# Taking a stab at the data\n",
    "So to begin with, I wrote a routine to load the dataset\n",
    "\n",
    "I became apparent, that the ñ and é chars of dc\\\\Extraño.txt and dc\\\\Tefé\\_Holland.txt filenames were a problem after extracting the files on my Windows box, so I manually renamed them.\n"
   ]
  },
  {
   "cell_type": "code",
   "execution_count": 1,
   "metadata": {
    "collapsed": false,
    "scrolled": true
   },
   "outputs": [],
   "source": [
    "import os\n",
    "import numpy as np\n",
    "\n",
    "# Reads a single file and returns its contents as a string\n",
    "def read_text(filename):\n",
    "    txt=''\n",
    "    with open(filename,'rU') as f:\n",
    "        txt = f.read()\n",
    "    assert txt!='','no text read'\n",
    "    return txt\n",
    "\n",
    "# reads all *.txt files in folder and returns a list of filecontents\n",
    "def get_files_in_folder(folder):\n",
    "    files = []\n",
    "    for f in os.listdir(folder):\n",
    "        if f.endswith('.txt'):\n",
    "            files.append(read_text(os.path.join(folder,f)))\n",
    "    return files\n",
    "\n"
   ]
  },
  {
   "cell_type": "code",
   "execution_count": 2,
   "metadata": {
    "collapsed": true
   },
   "outputs": [],
   "source": [
    "# get the files\n",
    "dcfiles = get_files_in_folder('dc')\n",
    "marvelfiles = get_files_in_folder('marvel')\n",
    "\n",
    "#concatenate the lists\n",
    "texts = dcfiles+marvelfiles\n",
    "\n",
    "#construct text labels for future use\n",
    "labels = np.array([0]* len(dcfiles)+[1]*len(marvelfiles))"
   ]
  },
  {
   "cell_type": "markdown",
   "metadata": {},
   "source": [
    "## First feature set\n",
    "Having no pre-conceived ideas about the texts, I thought: \"How about a simple Bag-of-Words\" to summarize the texts, and then I figured, that TfIdf would filter the more common words, and thus leave the \"most important\" words"
   ]
  },
  {
   "cell_type": "code",
   "execution_count": 3,
   "metadata": {
    "collapsed": false
   },
   "outputs": [],
   "source": [
    "from sklearn.feature_extraction.text import TfidfVectorizer as VEC\n",
    "from sklearn.preprocessing import normalize\n",
    "\n",
    "# create a simple word-relevance vectorization of each file\n",
    "vec = VEC(max_features=2000, stop_words='english')\n",
    "vecfeatures = normalize(vec.fit_transform(texts).toarray())\n"
   ]
  },
  {
   "cell_type": "code",
   "execution_count": 4,
   "metadata": {
    "collapsed": false
   },
   "outputs": [
    {
     "name": "stdout",
     "output_type": "stream",
     "text": [
      "Kfold CV: [ 0.97385621  0.97385621  0.96732026  0.9602649   0.98013245]\n",
      "Avg: 0.971086006146\n"
     ]
    }
   ],
   "source": [
    "from sklearn.linear_model import LogisticRegression\n",
    "from sklearn.cross_validation import StratifiedKFold, cross_val_score\n",
    "from __future__ import division\n",
    "\n",
    "# build a logistic regression classifier with L2 regularizer\n",
    "logreg = LogisticRegression(penalty='l2')\n",
    "\n",
    "# dataset only holds 761 texts, so to make use of everything better use KFold crossvalidation\n",
    "kfold = StratifiedKFold(labels,n_folds=5, random_state=1)\n",
    "\n",
    "# let's see where it gets us\n",
    "cvs = cross_val_score(logreg, vecfeatures, labels,cv=kfold)\n",
    "print \"Kfold CV:\", cvs\n",
    "print \"Avg:\", cvs.mean()\n"
   ]
  },
  {
   "cell_type": "markdown",
   "metadata": {},
   "source": [
    "## 97% ?!\n",
    "Ok, 97.1% is a decent first attempt. Let's have a look at the split"
   ]
  },
  {
   "cell_type": "code",
   "execution_count": 5,
   "metadata": {
    "collapsed": false
   },
   "outputs": [
    {
     "data": {
      "text/plain": [
       "(array([ 10.,  14.,  29.,  22.,  35.,  36.,  30.,  32.,  24.,  35.,  41.,\n",
       "         22.,  23.,  17.,   6.,   7.,   9.,   4.,   3.,   2.,   3.,   0.,\n",
       "          0.,   1.,   2.,   0.,   5.,   3.,   4.,   3.,   3.,   9.,   9.,\n",
       "         11.,  15.,  15.,  22.,  26.,  15.,  20.,  26.,  29.,  25.,  14.,\n",
       "         19.,  19.,  18.,  18.,  19.,   7.]),\n",
       " array([ 0.0357492 ,  0.05429197,  0.07283475,  0.09137753,  0.10992031,\n",
       "         0.12846308,  0.14700586,  0.16554864,  0.18409142,  0.2026342 ,\n",
       "         0.22117697,  0.23971975,  0.25826253,  0.27680531,  0.29534808,\n",
       "         0.31389086,  0.33243364,  0.35097642,  0.3695192 ,  0.38806197,\n",
       "         0.40660475,  0.42514753,  0.44369031,  0.46223308,  0.48077586,\n",
       "         0.49931864,  0.51786142,  0.53640419,  0.55494697,  0.57348975,\n",
       "         0.59203253,  0.61057531,  0.62911808,  0.64766086,  0.66620364,\n",
       "         0.68474642,  0.70328919,  0.72183197,  0.74037475,  0.75891753,\n",
       "         0.77746031,  0.79600308,  0.81454586,  0.83308864,  0.85163142,\n",
       "         0.87017419,  0.88871697,  0.90725975,  0.92580253,  0.94434531,\n",
       "         0.96288808]),\n",
       " <a list of 50 Patch objects>)"
      ]
     },
     "execution_count": 5,
     "metadata": {},
     "output_type": "execute_result"
    },
    {
     "data": {
      "image/png": "[encoded data removed]",
      "text/plain": [
       "<matplotlib.figure.Figure at 0x3bec9b0>"
      ]
     },
     "metadata": {},
     "output_type": "display_data"
    }
   ],
   "source": [
    "%matplotlib inline\n",
    "from matplotlib import pyplot as plt\n",
    "\n",
    "# fit a logistic regression model to everything\n",
    "model = logreg.fit(vecfeatures, labels)\n",
    "\n",
    "# and let's see the training probabilities\n",
    "probs = model.predict_proba(vecfeatures)\n",
    "\n",
    "plt.hist(probs[:,0],bins=50)"
   ]
  },
  {
   "cell_type": "markdown",
   "metadata": {
    "collapsed": true
   },
   "source": [
    "#### Ok, looks like two distinct sets\n",
    "There are a bit of confusion around the .50 mark, which would account for the 2.9% misclassification."
   ]
  },
  {
   "cell_type": "code",
   "execution_count": 6,
   "metadata": {
    "collapsed": false,
    "scrolled": true
   },
   "outputs": [
    {
     "name": "stdout",
     "output_type": "stream",
     "text": [
      "# of those in the 45-55% renge:  11\n",
      "[  2  98 145 171 200 238 242 315 353 417 651]\n"
     ]
    }
   ],
   "source": [
    "ambiguous = np.where(np.logical_and(probs[:,0] > 0.45,probs[:,0] < 0.55))\n",
    "print \"# of those in the 45-55% renge: \", len(ambiguous[0])\n",
    "\n",
    "print ambiguous[0]"
   ]
  },
  {
   "cell_type": "markdown",
   "metadata": {},
   "source": [
    "Ok, so number 2 and number 353 are the same, a cross-over maybe understandable that it get's confused. Number 145 is Iron Butterfly, and I guess \"Iron\" would influence heavily in the Marvel direction because of Iron Man and the many interactions he has with Marvel heros.\n",
    "Number 651 is Red Sonja, and since there are two DC-heros named Red Tornado and Red Torpedo, I'm guessing 'Red' would lean towards DC\n",
    "\n",
    "I haven't looked closer at the rest, but I guess it's appearent that the vectorizer could be improved by looking specifically for the heros' full names."
   ]
  },
  {
   "cell_type": "markdown",
   "metadata": {},
   "source": [
    "## A few too many errors?\n",
    "Normally, I wouldn't mind 97.1% accuracy, but maybe we can work a bit with the data.\n",
    "\n",
    "First: What are the features used? "
   ]
  },
  {
   "cell_type": "markdown",
   "metadata": {},
   "source": [
    "### The TD-IDF features\n",
    "Let's have a look at the most important features in the TF-IDF featureset"
   ]
  },
  {
   "cell_type": "code",
   "execution_count": 12,
   "metadata": {
    "collapsed": false
   },
   "outputs": [
    {
     "data": {
      "text/plain": [
       "array([u'1987', u'2099', u'academy', u'alpha', u'appearing', u'ar',\n",
       "       u'armor', u'avengers', u'battled', u'bloodstone', u'books',\n",
       "       u'cable', u'captain', u'cyclops', u'daredevil', u'darkhawk',\n",
       "       u'deadpool', u'diamond', u'excalibur', u'exiles', u'fantastic',\n",
       "       u'fury', u'gabriel', u'goblin', u'guard', u'hulk', u'imperial',\n",
       "       u'initiative', u'institute', u'invaders', u'jack', u'kree',\n",
       "       u'magneto', u'man', u'men', u'mutant', u'mutants', u'osborn',\n",
       "       u'pack', u'phoenix', u'process', u'quasar', u'rider', u'shi',\n",
       "       u'skrull', u'skull', u'spider', u'stark', u'superhuman', u'supreme',\n",
       "       u'team', u'thanos', u'thor', u'thunderbolts', u'ultimate', u'venom',\n",
       "       u'warlock', u'warriors', u'wolverine', u'xavier', u'york'], \n",
       "      dtype='<U15')"
      ]
     },
     "execution_count": 12,
     "metadata": {},
     "output_type": "execute_result"
    }
   ],
   "source": [
    "np.array(vec.get_feature_names())[np.where(logreg.coef_[0,:] > 0.5)[0]]"
   ]
  },
  {
   "cell_type": "code",
   "execution_count": 13,
   "metadata": {
    "collapsed": false
   },
   "outputs": [
    {
     "data": {
      "text/plain": [
       "array([u'52', u'action', u'aquaman', u'arrow', u'artemis', u'atom', u'bat',\n",
       "       u'batman', u'birds', u'boy', u'brainiac', u'characters', u'city',\n",
       "       u'comics', u'constantine', u'corps', u'crisis', u'deathstroke',\n",
       "       u'flash', u'golden', u'gotham', u'green', u'guardians', u'hal',\n",
       "       u'heroes', u'icon', u'infinite', u'jla', u'jordan', u'jsa',\n",
       "       u'justice', u'lane', u'lantern', u'lanterns', u'league', u'legion',\n",
       "       u'lightning', u'luthor', u'magic', u'outsiders', u'patrol',\n",
       "       u'quality', u'rex', u'robin', u'rorschach', u'rose', u'shadow',\n",
       "       u'society', u'spectre', u'star', u'starman', u'super', u'superboy',\n",
       "       u'supergirl', u'superman', u'swamp', u'teen', u'titans', u'tornado',\n",
       "       u'woman', u'wonder', u'young'], \n",
       "      dtype='<U15')"
      ]
     },
     "execution_count": 13,
     "metadata": {},
     "output_type": "execute_result"
    }
   ],
   "source": [
    "np.array(vec.get_feature_names())[np.where(logreg.coef_[0,:] < -0.5)[0]]"
   ]
  },
  {
   "cell_type": "markdown",
   "metadata": {},
   "source": [
    "So, no suprises really, The most important features with a positive coefficient (pointing towards Marvel) rhyme with Deadpool, Hulk and the X-Men, whereas the negative coefficients are Arrow, The Flash, Justice League and Superman (DC)\n",
    "\n",
    "Now, a new superhero, who has had no interaction with the other, would be hard to classify using the learned model. I'm not going down this rabbit hole though (Remove super hero names from tf-idf vocabulary, presumably using some kind of Named Entity Recogniser)."
   ]
  },
  {
   "cell_type": "markdown",
   "metadata": {},
   "source": [
    "## Vocabulary size\n",
    "So, I picked 2K out of my ... limited imagination.  Maybe there's something to gain from a smaller or larger vocabulary?"
   ]
  },
  {
   "cell_type": "code",
   "execution_count": 15,
   "metadata": {
    "collapsed": false
   },
   "outputs": [],
   "source": [
    "def get_features(vocabsize):\n",
    "    _vec = VEC(max_features=vocabsize, stop_words='english')\n",
    "    _vecfeatures = normalize(_vec.fit_transform(texts).toarray())\n",
    "    return _vecfeatures\n",
    "\n",
    "def calc_crossval_score_logreg(vocabsize, vals, kfold):\n",
    "    _features = get_features(int(vocabsize))\n",
    "    _logreg = LogisticRegression()\n",
    "    return cross_val_score(_logreg,_features,vals,cv=kfold).mean()\n",
    "   \n",
    "    \n",
    "    "
   ]
  },
  {
   "cell_type": "code",
   "execution_count": 16,
   "metadata": {
    "collapsed": false
   },
   "outputs": [
    {
     "data": {
      "text/plain": [
       "[<matplotlib.lines.Line2D at 0xbdb5208>]"
      ]
     },
     "execution_count": 16,
     "metadata": {},
     "output_type": "execute_result"
    },
    {
     "data": {
      "image/png": "[encoded data removed]",
      "text/plain": [
       "<matplotlib.figure.Figure at 0xbb1b550>"
      ]
     },
     "metadata": {},
     "output_type": "display_data"
    }
   ],
   "source": [
    "vocabsizes = np.linspace(1000, 15000,15)\n",
    "cvs_logreg = [calc_crossval_score_logreg(s, labels, kfold) for s in vocabsizes]\n",
    "\n",
    "plt.plot(vocabsizes, cvs_logreg)"
   ]
  },
  {
   "cell_type": "markdown",
   "metadata": {},
   "source": [
    "It would appear, that 6000 words is somewhat better than the rest, and everything beyond 12K is a waste of time - presumably because all the good features are among the 12k most important words (tf-idf wise). The dips at 4k and 7k though...?!\n",
    "\n",
    "For good measure, let's see the interval 0-1000 and 5500-6500.\n",
    "\n"
   ]
  },
  {
   "cell_type": "code",
   "execution_count": 17,
   "metadata": {
    "collapsed": false
   },
   "outputs": [
    {
     "data": {
      "text/plain": [
       "[<matplotlib.lines.Line2D at 0xbf5ff98>]"
      ]
     },
     "execution_count": 17,
     "metadata": {},
     "output_type": "execute_result"
    },
    {
     "data": {
      "image/png": "[encoded data removed]",
      "text/plain": [
       "<matplotlib.figure.Figure at 0xbfbe588>"
      ]
     },
     "metadata": {},
     "output_type": "display_data"
    }
   ],
   "source": [
    "# logreg with 0-1000 feature words\n",
    "vocabsizes2 = np.linspace(100, 1000,10)\n",
    "cvs_logreg2 = [calc_crossval_score_logreg(s, labels, kfold) for s in vocabsizes2]\n",
    "plt.plot(vocabsizes2,cvs_logreg2)\n"
   ]
  },
  {
   "cell_type": "code",
   "execution_count": 18,
   "metadata": {
    "collapsed": false
   },
   "outputs": [
    {
     "data": {
      "text/plain": [
       "[<matplotlib.lines.Line2D at 0xc034908>]"
      ]
     },
     "execution_count": 18,
     "metadata": {},
     "output_type": "execute_result"
    },
    {
     "data": {
      "image/png": "[encoded data removed]",
      "text/plain": [
       "<matplotlib.figure.Figure at 0xbde52e8>"
      ]
     },
     "metadata": {},
     "output_type": "display_data"
    }
   ],
   "source": [
    "# logreg with 0-1000 feature words\n",
    "vocabsizes3 = np.linspace(5500, 6500,11)\n",
    "cvs_logreg3 = [calc_crossval_score_logreg(s, labels, kfold) for s in vocabsizes3]\n",
    "plt.plot(vocabsizes3,cvs_logreg3)"
   ]
  },
  {
   "cell_type": "markdown",
   "metadata": {},
   "source": [
    "## Conclusion on Logistic Regression\n",
    "It would appear, that a feature-set of the first 6000 TF/IDF vectors performs quite well.\n"
   ]
  },
  {
   "cell_type": "code",
   "execution_count": 19,
   "metadata": {
    "collapsed": false
   },
   "outputs": [
    {
     "name": "stdout",
     "output_type": "stream",
     "text": [
      "0.973700385231\n"
     ]
    }
   ],
   "source": [
    "vecfeatures = get_features(6000)\n",
    "print cross_val_score(logreg, vecfeatures, labels, cv=kfold).mean()"
   ]
  },
  {
   "cell_type": "markdown",
   "metadata": {
    "collapsed": false
   },
   "source": [
    "# Clustering, anyone?\n",
    "Ok, with two distinct sets such as this, maybe KNN is a viable alternative"
   ]
  },
  {
   "cell_type": "code",
   "execution_count": 20,
   "metadata": {
    "collapsed": false
   },
   "outputs": [
    {
     "name": "stdout",
     "output_type": "stream",
     "text": [
      "0.944855646453\n"
     ]
    }
   ],
   "source": [
    "from sklearn.neighbors import KNeighborsClassifier as KNN\n",
    "knn = KNN()\n",
    "\n",
    "# I'll reuse the 6K features from before for now\n",
    "vecfeatures = get_features(6000)\n",
    "\n",
    "rKnnCrossVal = cross_val_score(knn,vecfeatures,labels,cv=kfold)\n",
    "print rKnnCrossVal.mean()"
   ]
  },
  {
   "cell_type": "markdown",
   "metadata": {},
   "source": [
    "Ok, looks promising"
   ]
  },
  {
   "cell_type": "code",
   "execution_count": 22,
   "metadata": {
    "collapsed": false
   },
   "outputs": [],
   "source": [
    "def calc_crossval_score_knn(neighbours, features, vals, kfold):\n",
    "    _knn = KNN(int(neighbours))\n",
    "    return cross_val_score(_knn,features,vals,cv=kfold).mean()\n"
   ]
  },
  {
   "cell_type": "code",
   "execution_count": 23,
   "metadata": {
    "collapsed": false
   },
   "outputs": [
    {
     "data": {
      "text/plain": [
       "[<matplotlib.lines.Line2D at 0xc1502b0>]"
      ]
     },
     "execution_count": 23,
     "metadata": {},
     "output_type": "execute_result"
    },
    {
     "data": {
      "image/png": "[encoded data removed]",
      "text/plain": [
       "<matplotlib.figure.Figure at 0xc0b63c8>"
      ]
     },
     "metadata": {},
     "output_type": "display_data"
    }
   ],
   "source": [
    "# let's see for uneven K = 3:25 \n",
    "ks = np.linspace(3, 25, 11)\n",
    "cvs = [calc_crossval_score_knn(k, vecfeatures, labels, kfold) for k in ks]\n",
    "\n",
    "plt.plot(ks,cvs)"
   ]
  },
  {
   "cell_type": "markdown",
   "metadata": {},
   "source": [
    "### Partial conclusion \n",
    "It appears that 9+ neighbours are enough, and 13 looks to be very good indeed (ok, 25 is better, but 25...)\n",
    "let's see if we can achieve similar results but with a smaller feature set"
   ]
  },
  {
   "cell_type": "code",
   "execution_count": 24,
   "metadata": {
    "collapsed": true
   },
   "outputs": [],
   "source": [
    "def calc_crossval_score_knn2(vocabsize, vals, kfold):\n",
    "    _knn = KNN(13)\n",
    "    _features = get_features(int(vocabsize))\n",
    "    return cross_val_score(_knn,_features,vals,cv=kfold).mean()\n",
    "\n"
   ]
  },
  {
   "cell_type": "code",
   "execution_count": 25,
   "metadata": {
    "collapsed": false
   },
   "outputs": [
    {
     "data": {
      "text/plain": [
       "[<matplotlib.lines.Line2D at 0xbd51c88>]"
      ]
     },
     "execution_count": 25,
     "metadata": {},
     "output_type": "execute_result"
    },
    {
     "data": {
      "image/png": "[encoded data removed]",
      "text/plain": [
       "<matplotlib.figure.Figure at 0xbee0278>"
      ]
     },
     "metadata": {},
     "output_type": "display_data"
    }
   ],
   "source": [
    "voc_sizes2 = np.linspace(100,1000,10)\n",
    "cvs2 = [calc_crossval_score_knn2(v, labels, kfold) for v in voc_sizes2]\n",
    "plt.plot(voc_sizes2, cvs2)"
   ]
  },
  {
   "cell_type": "code",
   "execution_count": 26,
   "metadata": {
    "collapsed": false
   },
   "outputs": [
    {
     "data": {
      "text/plain": [
       "[<matplotlib.lines.Line2D at 0xd521550>]"
      ]
     },
     "execution_count": 26,
     "metadata": {},
     "output_type": "execute_result"
    },
    {
     "data": {
      "image/png": "[encoded data removed]",
      "text/plain": [
       "<matplotlib.figure.Figure at 0xc1380f0>"
      ]
     },
     "metadata": {},
     "output_type": "display_data"
    }
   ],
   "source": [
    "voc_sizes3 = np.linspace(1000,10000,11)\n",
    "cvs3 = [calc_crossval_score_knn2(v, labels, kfold) for v in voc_sizes3]\n",
    "plt.plot(voc_sizes3, cvs3)"
   ]
  },
  {
   "cell_type": "markdown",
   "metadata": {},
   "source": [
    "### D'oh!\n",
    "Vocabulary of 3K was a better fit.."
   ]
  },
  {
   "cell_type": "code",
   "execution_count": 27,
   "metadata": {
    "collapsed": false
   },
   "outputs": [
    {
     "data": {
      "text/plain": [
       "[<matplotlib.lines.Line2D at 0xd4e4208>]"
      ]
     },
     "execution_count": 27,
     "metadata": {},
     "output_type": "execute_result"
    },
    {
     "data": {
      "image/png": "[encoded data removed]",
      "text/plain": [
       "<matplotlib.figure.Figure at 0xbf83c88>"
      ]
     },
     "metadata": {},
     "output_type": "display_data"
    }
   ],
   "source": [
    "voc_sizes4 = np.linspace(2500,3500,11)\n",
    "cvs4 = [calc_crossval_score_knn2(v, labels, kfold) for v in voc_sizes4]\n",
    "plt.plot(voc_sizes4, cvs4)"
   ]
  },
  {
   "cell_type": "markdown",
   "metadata": {},
   "source": [
    "### Let's revisit the K-search"
   ]
  },
  {
   "cell_type": "code",
   "execution_count": 28,
   "metadata": {
    "collapsed": false
   },
   "outputs": [
    {
     "name": "stdout",
     "output_type": "stream",
     "text": [
      "[ 0.92156863  0.94117647  0.94117647  0.95364238  0.94701987]\n"
     ]
    }
   ],
   "source": [
    "vecfeatures = get_features(2800)\n",
    "print cross_val_score(knn, vecfeatures, labels, cv=kfold)"
   ]
  },
  {
   "cell_type": "code",
   "execution_count": 29,
   "metadata": {
    "collapsed": false
   },
   "outputs": [
    {
     "data": {
      "text/plain": [
       "[<matplotlib.lines.Line2D at 0xe098160>]"
      ]
     },
     "execution_count": 29,
     "metadata": {},
     "output_type": "execute_result"
    },
    {
     "data": {
      "image/png": "[encoded data removed]",
      "text/plain": [
       "<matplotlib.figure.Figure at 0xd77dda0>"
      ]
     },
     "metadata": {},
     "output_type": "display_data"
    }
   ],
   "source": [
    "cvs5 = [calc_crossval_score_knn(k, vecfeatures, labels, kfold) for k in ks]\n",
    "plt.plot(ks, cvs5)"
   ]
  },
  {
   "cell_type": "markdown",
   "metadata": {},
   "source": [
    "## Conclusion on KNN\n",
    "So, It appears that KNN maxes out at 96%, which is respectable. And with a featureset about half the size of Logistic Regression.\n",
    "\n",
    "I didn't do a full grid-search of K's vs. Vocabsize, which could've found a better set of parameters."
   ]
  },
  {
   "cell_type": "markdown",
   "metadata": {},
   "source": [
    "# Conclusion on this little exploration\n",
    "Logistic Regression and K-Nearest Neighbours both perform well on the dataset, at 97% and 96% respectively. I'm going to prefer the Logistic Regression, because the model-representation is \"only\" 1x6000 weights, whereas the KNN model would be a 761x2800 vectors. Also the prediction is simpler :1 dot product, KNN is 761 comparisons (in the naïve approach)"
   ]
  },
  {
   "cell_type": "markdown",
   "metadata": {},
   "source": [
    "# Create initial database\n",
    "I wrote a DAL class to abstract away the choice of database provider.. Figured i may as well populate the database right away"
   ]
  },
  {
   "cell_type": "code",
   "execution_count": 30,
   "metadata": {
    "collapsed": false
   },
   "outputs": [],
   "source": [
    "from SHpersistence import SuperHeroStore\n",
    "store = SuperHeroStore('data.json')\n",
    "store.nuke_everything()"
   ]
  },
  {
   "cell_type": "code",
   "execution_count": 31,
   "metadata": {
    "collapsed": true
   },
   "outputs": [],
   "source": [
    "# read the files from folder and populate database\n",
    "# reads all *.txt files in folder and returns a list of filecontents\n",
    "def put_data_in_database(folder):\n",
    "    for f in os.listdir(folder):\n",
    "        if f.endswith('.txt'):\n",
    "            print f[:-4]\n",
    "            store.create_hero(f[:-4], read_text(os.path.join(folder,f)), folder)"
   ]
  },
  {
   "cell_type": "code",
   "execution_count": 32,
   "metadata": {
    "collapsed": false
   },
   "outputs": [
    {
     "name": "stdout",
     "output_type": "stream",
     "text": [
      "711\n",
      "abin_sur\n",
      "access\n",
      "ace_the_bat_hound\n",
      "adam_strange\n",
      "alan_scott\n",
      "albert_rothstein\n",
      "alexander_luthor_jr\n",
      "alternative_versions_of_robin\n",
      "amazing_man\n",
      "anarky\n",
      "ant\n",
      "antaeus\n",
      "apache_chief\n",
      "aquagirl\n",
      "aqualad\n",
      "aquaman\n",
      "aquawoman\n",
      "argent\n",
      "arion\n",
      "arm_fall_off_boy\n",
      "artemis_of_bana_mighdall\n",
      "atlas\n",
      "atmos\n",
      "azrael\n",
      "baby_wildebeest\n",
      "ballistic\n",
      "barbara_gordon\n",
      "baron_bedlam\n",
      "batgirl\n",
      "batman\n",
      "battalion\n",
      "bat_cow\n",
      "bat_mite\n",
      "belyllioth\n",
      "big_barda\n",
      "bizarra\n",
      "bizarro\n",
      "black_canary\n",
      "black_lightning\n",
      "black_vulcan\n",
      "blok\n",
      "bloodwynd\n",
      "blue_devil\n",
      "boodikka\n",
      "bork\n",
      "bouncing_boy\n",
      "bozo_the_iron_man\n",
      "brainiac_5\n",
      "brainiac_8\n",
      "brainwave\n",
      "bulleteer\n",
      "bunker\n",
      "bushido\n",
      "bushmaster\n",
      "captain_atom\n",
      "captain_boomerang\n",
      "captain_carrot\n",
      "captain_comet\n",
      "captain_triumph\n",
      "celsius\n",
      "centrix\n",
      "champions_of_angor\n",
      "chas_chandler\n",
      "chlorophyll_kid\n",
      "chris_kl_99\n",
      "chronos\n",
      "coagula\n",
      "codename_assassin\n",
      "comet\n",
      "commander_steel\n",
      "cosmic_boy\n",
      "creeper\n",
      "creote\n",
      "crimson_fox\n",
      "cyborg\n",
      "dan_the_dyna_mite\n",
      "dawnstar\n",
      "detective_chimp\n",
      "devlin_oryan\n",
      "dharma\n",
      "dingbats_of_danger_street\n",
      "doctor_fate\n",
      "doctor_occult\n",
      "doctor_thirteen\n",
      "doll_girl\n",
      "doll_man\n",
      "dolphin\n",
      "donna_troy\n",
      "draaga\n",
      "dragonmage\n",
      "dream_boy\n",
      "duplicate_boy\n",
      "ekron\n",
      "element_girl\n",
      "elongated_man\n",
      "el_diablo\n",
      "empress\n",
      "enemy_ace\n",
      "etrigan_the_demon\n",
      "extraño\n",
      "fastback\n",
      "fighting_american\n",
      "fire\n",
      "fleur_de_lis\n",
      "flodo_span\n",
      "frankenstein\n",
      "freedom_beast\n",
      "gangbuster\n",
      "garth_ranzz\n",
      "general\n",
      "geo_force\n",
      "gloss\n",
      "gnarrk\n",
      "gnort\n",
      "golden_arrow\n",
      "golden_knight\n",
      "grace_choi\n",
      "great_ten\n",
      "green_arrow\n",
      "green_lantern\n",
      "guardian\n",
      "gunfire\n",
      "guy_gardner\n",
      "gypsy\n",
      "hades\n",
      "hangman\n",
      "harry_stein\n",
      "haunted_tank\n",
      "hawkwoman\n",
      "heckler\n",
      "hector_hall\n",
      "hercules\n",
      "holly_robinson\n",
      "hoppy_the_marvel_bunny\n",
      "hop_harrigan\n",
      "hourman\n",
      "ibis_the_invincible\n",
      "icemaiden\n",
      "icon\n",
      "immortal_man\n",
      "impulse\n",
      "insect_queen\n",
      "invisible_kid\n",
      "ion\n",
      "iron_butterfly\n",
      "iron_munro\n",
      "isaiah_crockett\n",
      "isis\n",
      "jack_t_chance\n",
      "jade\n",
      "jaguar\n",
      "jakeem_thunder\n",
      "janu_the_jungle_boy\n",
      "jason_todd\n",
      "jericho\n",
      "jesse_chambers\n",
      "jester\n",
      "johnny_thunder\n",
      "john_constantine\n",
      "jor_el\n",
      "josiah_power\n",
      "judomaster\n",
      "kamandi\n",
      "katma_tui\n",
      "kehaan\n",
      "kent_shakespeare\n",
      "kid_flash\n",
      "killowat\n",
      "kinetix\n",
      "king_chimera\n",
      "kobalt\n",
      "kole\n",
      "kraken\n",
      "kreon\n",
      "kyle_rayner\n",
      "lady_blackhawk\n",
      "lady_quark\n",
      "lagoon_boy\n",
      "lara\n",
      "lar_gand\n",
      "laurel_gand\n",
      "liberty_belle\n",
      "lightning\n",
      "lightray\n",
      "little_barda\n",
      "lobo\n",
      "lori_morning\n",
      "machiste\n",
      "madame_xanadu\n",
      "madame_zodiac\n",
      "magno\n",
      "magog\n",
      "major_victory\n",
      "mal_duncan\n",
      "manitou_raven\n",
      "manticore\n",
      "man_bat\n",
      "mary_marvel\n",
      "matter_eater_lad\n",
      "maxi_man\n",
      "maya\n",
      "medphyll\n",
      "mento\n",
      "mera\n",
      "merlin_the_magician\n",
      "merry_pemberton\n",
      "metamorpho\n",
      "midnight\n",
      "minion\n",
      "mirage\n",
      "misfit\n",
      "miss_fear\n",
      "miss_martian\n",
      "miss_x\n",
      "mister_america\n",
      "monolith\n",
      "monstergirl\n",
      "monstress\n",
      "moon_maiden\n",
      "myg\n",
      "naiad\n",
      "natasha_irons\n",
      "negative_man\n",
      "newsboy_legion\n",
      "nightmaster\n",
      "nightrunner\n",
      "night_eagle\n",
      "night_girl\n",
      "nite_owl\n",
      "nnamdi\n",
      "nuklon\n",
      "nura_nal\n",
      "offspring\n",
      "omac\n",
      "omni\n",
      "orion\n",
      "owlwoman\n",
      "patchwork_man\n",
      "paula_brooks\n",
      "peacemaker\n",
      "peter_cannon_thunderbolt\n",
      "peter_porkchops\n",
      "phantom_girl\n",
      "phantom_lady\n",
      "philippus\n",
      "power_boy\n",
      "presence\n",
      "queen_desira\n",
      "ragman\n",
      "rainbow_girl\n",
      "rama\n",
      "ravager\n",
      "ray\n",
      "redwing\n",
      "red_tornado\n",
      "red_torpedo\n",
      "reflecto\n",
      "renee_montoya\n",
      "resurrection_man\n",
      "rex_leech\n",
      "rick_flag\n",
      "riddler\n",
      "rip_hunter\n",
      "risk\n",
      "robin\n",
      "robin_hood\n",
      "rocket\n",
      "rorschach\n",
      "rose_psychic\n",
      "rose_wilson\n",
      "roxy_leech\n",
      "roy_harper\n",
      "rubberduck\n",
      "salaak\n",
      "salu_digby\n",
      "samurai\n",
      "sandman\n",
      "sargon_the_sorcerer\n",
      "sasha_bordeaux\n",
      "savant\n",
      "scarab\n",
      "secret\n",
      "seraph\n",
      "shade\n",
      "shadow_lass\n",
      "shakira\n",
      "shield\n",
      "silent_knight\n",
      "silver_sorceress\n",
      "skyman\n",
      "skyrocket\n",
      "solovar\n",
      "son_of_vulcan\n",
      "space_ghost\n",
      "space_ranger\n",
      "sparkler\n",
      "sparx\n",
      "speedy\n",
      "stalker\n",
      "starfire\n",
      "starman\n",
      "star_hawkins\n",
      "star_spangled_kid\n",
      "static\n",
      "steel\n",
      "stone_boy\n",
      "strange_visitor\n",
      "striker_z\n",
      "sunburst\n",
      "superboy\n",
      "supergirl\n",
      "supernova\n",
      "superwoman\n",
      "super_chief\n",
      "tallulah_black\n",
      "tasmanian_devil\n",
      "tefé_holland\n",
      "telekinesis\n",
      "tellus\n",
      "tempest\n",
      "the_clock\n",
      "the_shadow\n",
      "thorn\n",
      "thunder\n",
      "tim_drake\n",
      "tnt\n",
      "tomar_re\n",
      "tornado_twins\n",
      "toyman\n",
      "tuatara\n",
      "tyroc\n",
      "ultraa\n",
      "ultra_boy\n",
      "ultra_man\n",
      "userrootonejonathan_kent\n",
      "valda_the_iron_maiden\n",
      "valentina_vostok\n",
      "vartox\n",
      "vibe\n",
      "viking_prince\n",
      "vixen\n",
      "vril_dox\n",
      "warlocks_daughter\n",
      "white_witch\n",
      "wildcat\n",
      "wildfire\n",
      "willoughby_kipling\n",
      "wing\n",
      "wonder_boy\n",
      "wonder_dog\n",
      "wonder_girl\n",
      "wonder_twins\n",
      "access\n",
      "adam_warlock\n",
      "adept\n",
      "ahura\n",
      "air_walker\n",
      "akasha\n",
      "albert\n",
      "alex_power\n",
      "alpha\n",
      "alternative_versions_of_spider_man\n",
      "amanda_sefton\n",
      "annex\n",
      "anthem\n",
      "ant_man\n",
      "apex\n",
      "arcanna\n",
      "archer\n",
      "ares\n",
      "ariel\n",
      "arkon\n",
      "armor\n",
      "astra\n",
      "barnell_bohusk\n",
      "batwing\n",
      "baymax\n",
      "beast\n",
      "bedlam\n",
      "bengal\n",
      "ben_reilly\n",
      "beta_ray_bill\n",
      "bird_brain\n",
      "bishop\n",
      "blackthorn\n",
      "black_cat\n",
      "black_fox\n",
      "black_marvel\n",
      "black_rider\n",
      "blaquesmith\n",
      "blazing_skull\n",
      "blindfold\n",
      "bling\n",
      "bloodhawk\n",
      "blue_blade\n",
      "blue_diamond\n",
      "blue_eagle\n",
      "blue_marvel\n",
      "blue_shield\n",
      "blue_streak\n",
      "bob_agent_of_hydra\n",
      "brother_voodoo\n",
      "bug\n",
      "butterball\n",
      "cable\n",
      "caleb_hammer\n",
      "callisto\n",
      "cannonball\n",
      "captain\n",
      "captain_britain\n",
      "captain_marvel\n",
      "captain_midlands\n",
      "captain_ultra\n",
      "cardiac\n",
      "caretaker\n",
      "century\n",
      "challenger\n",
      "chance\n",
      "charcoal\n",
      "chase_stein\n",
      "chris_bradley\n",
      "cipher\n",
      "citizen_v\n",
      "cloak_and_dagger\n",
      "coal_tiger\n",
      "coldblood\n",
      "comet_man\n",
      "conan\n",
      "constrictor\n",
      "corsair\n",
      "crippler\n",
      "crusader\n",
      "crusaders\n",
      "cyclops\n",
      "daimon_hellstrom\n",
      "daisy_johnson\n",
      "dallas_riordan\n",
      "daredevil\n",
      "darkdevil\n",
      "darkhawk\n",
      "darwin\n",
      "david_north\n",
      "dead_girl\n",
      "deathlok\n",
      "delphyne_gorgon\n",
      "delroy_garrett\n",
      "destroyer\n",
      "detroit_steel\n",
      "devil_slayer\n",
      "diamond\n",
      "die_cut\n",
      "dirk_anger\n",
      "doctor_druid\n",
      "doctor_strange\n",
      "doc_samson\n",
      "dominic_fortune\n",
      "domino\n",
      "donyell_taylor\n",
      "doorman\n",
      "dragon_lord\n",
      "dum_dum_dugan\n",
      "dust\n",
      "ebon_samurai\n",
      "eddie_brock\n",
      "elixir\n",
      "elloe_kaifi\n",
      "elsa_bloodstone\n",
      "elsie_dee\n",
      "el_guapo\n",
      "enigma\n",
      "equinox\n",
      "eric_ogrady\n",
      "ezekiel\n",
      "falcon\n",
      "fang\n",
      "fantomex\n",
      "feron\n",
      "finesse\n",
      "fixer\n",
      "fixx\n",
      "flashfire\n",
      "flash_thompson\n",
      "forbush_man\n",
      "force\n",
      "franklin_richards\n",
      "freedom_ring\n",
      "free_spirit\n",
      "frog_man\n",
      "gaia\n",
      "gambit\n",
      "gamora\n",
      "gateway\n",
      "geldoff\n",
      "genis_vell\n",
      "ghost\n",
      "ghost_rider_2099\n",
      "goblin\n",
      "gorilla_girl\n",
      "gorilla_man\n",
      "gravity\n",
      "green_goblin\n",
      "g_w_bridge\n",
      "hank_pym\n",
      "hannibal_king\n",
      "happy_sam_sawyer\n",
      "harry_osborn\n",
      "haywire\n",
      "hazmat\n",
      "heather_hudson\n",
      "heavy_hitters\n",
      "hellion\n",
      "henrietta_hunter\n",
      "hepzibah\n",
      "hercules\n",
      "hindsight\n",
      "hiroim\n",
      "hiro_takachiho\n",
      "holocaust\n",
      "honey_lemon\n",
      "hornet\n",
      "hulk\n",
      "humbug\n",
      "hummingbird\n",
      "husk\n",
      "hussar\n",
      "hyperion\n",
      "iceman\n",
      "ikaris\n",
      "ink\n",
      "iron_lad\n",
      "iron_man\n",
      "isaiah_bradley\n",
      "j2\n",
      "jack_flag\n",
      "jack_of_hearts\n",
      "jack_power\n",
      "jean_grey\n",
      "jeffrey_mace\n",
      "jennifer_kale\n",
      "jessica_jones\n",
      "jolt\n",
      "josiah_x\n",
      "joystick\n",
      "juggernaut\n",
      "julie_power\n",
      "junkpile\n",
      "justice\n",
      "karma\n",
      "karolina_dean\n",
      "kate_waynesboro\n",
      "katie_power\n",
      "kestrel\n",
      "killpower\n",
      "killraven\n",
      "kiwi_black\n",
      "klara_prast\n",
      "korg\n",
      "leech\n",
      "lifeguard\n",
      "living_brain\n",
      "living_lightning\n",
      "lockjaw\n",
      "m\n",
      "machine_teen\n",
      "magician\n",
      "magik\n",
      "magnus_lehnsherr\n",
      "mainframe\n",
      "major_mapleleaf\n",
      "mantis\n",
      "man_thing\n",
      "mariko_yashida\n",
      "mark_hazzard_merc\n",
      "master_mind_excello\n",
      "match\n",
      "mayhem\n",
      "medusa\n",
      "merlyn\n",
      "mettle\n",
      "midnight_sun\n",
      "miek\n",
      "mimic\n",
      "minotaur\n",
      "mister_sensitive\n",
      "mockingbird\n",
      "molly_hayes\n",
      "mondo\n",
      "monica_rambeau\n",
      "moondragon\n",
      "moonglow\n",
      "moonstone\n",
      "moon_boy\n",
      "moon_knight\n",
      "morbius_the_living_vampire\n",
      "motormouth\n",
      "murmur\n",
      "mystique\n",
      "namor\n",
      "nancy_lu\n",
      "nara\n",
      "nate_grey\n",
      "network\n",
      "neutron\n",
      "nick_fury\n",
      "nightcrawler\n",
      "nightmask\n",
      "nightside\n",
      "night_thrasher\n",
      "nikki\n",
      "nocturne\n",
      "noh_varr\n",
      "northstar\n",
      "nuke\n",
      "ogre\n",
      "omega_the_unknown\n",
      "onyxx\n",
      "oracle\n",
      "oya\n",
      "paladin\n",
      "penance\n",
      "pepper_potts\n",
      "peregrine\n",
      "phantom_eagle\n",
      "phaser\n",
      "phil_urich\n",
      "phobos\n",
      "pinky_pinkerton\n",
      "pipeline\n",
      "pip_the_troll\n",
      "poison\n",
      "portal\n",
      "powerhouse\n",
      "power_man\n",
      "preview\n",
      "puck\n",
      "pulsar\n",
      "puma\n",
      "quagmire\n",
      "quasar\n",
      "quentin_quire\n",
      "quicksilver\n",
      "quill\n",
      "rachel_summers\n",
      "radioactive_man\n",
      "radius\n",
      "rage\n",
      "random\n",
      "raptor\n",
      "ravage_2099\n",
      "raza_longknife\n",
      "red_sonja\n",
      "reptil\n",
      "revolutionary\n",
      "ricochet\n",
      "rikki_barnes\n",
      "risque\n",
      "rocket_racer\n",
      "rockslide\n",
      "rogue\n",
      "rom\n",
      "ruby_summers\n",
      "rusty_collins\n",
      "sage\n",
      "sasquatch\n",
      "satana\n",
      "savage_steel\n",
      "scarlet_witch\n",
      "scorpio\n",
      "scorpion\n",
      "sean_and_chris\n",
      "sersi\n",
      "shamrock\n",
      "shang_chi\n",
      "shanna_the_she_devil\n",
      "sharon_friedlander\n",
      "she_hulk\n",
      "she_venom\n",
      "shiver_man\n",
      "shola_inkosi\n",
      "shooting_star\n",
      "shriker\n",
      "shroud\n",
      "siege\n",
      "silencer\n",
      "silhouette\n",
      "silverclaw\n",
      "silver_fox\n",
      "silver_sable\n",
      "siryn\n",
      "skin\n",
      "skrullian_skymaster\n",
      "skullfire\n",
      "sleepwalker\n",
      "slipstream\n",
      "smasher\n",
      "snapdragon\n",
      "songbird\n",
      "southpaw\n",
      "spider_girl\n",
      "spider_man\n",
      "spider_man_2099\n",
      "spider_man_noir\n",
      "spider_woman\n",
      "spitfire\n",
      "spyke\n",
      "squirrel_girl\n",
      "starbolt\n",
      "starbrand\n",
      "starfox\n",
      "starhawk\n",
      "steel_spider\n",
      "stepford_cuckoos\n",
      "stingray\n",
      "sun_girl\n",
      "surge\n",
      "synch\n",
      "tag\n",
      "talisman\n",
      "terror_inc\n",
      "thea\n",
      "thing\n",
      "thornn\n",
      "thor_girl\n",
      "thunderbird\n",
      "thunderclap\n",
      "thunderer\n",
      "thunderstrike\n",
      "thundra\n",
      "tigra\n",
      "timeslip\n",
      "tommy\n",
      "tom_corsi\n",
      "torpedo\n",
      "toxin\n",
      "trance\n",
      "transonic\n",
      "triton\n",
      "turbo\n",
      "ultimate_iron_man\n",
      "ulysses_bloodstone\n",
      "union_jack\n",
      "vampire_by_night\n",
      "vance_astrovik\n",
      "velocidad\n",
      "vengeance\n",
      "vertigo\n",
      "victor_mancha\n",
      "vindicator\n",
      "vision\n",
      "wallflower\n",
      "warlock\n",
      "warstar\n",
      "war_machine\n",
      "white_tiger\n",
      "widget\n",
      "wild_child\n",
      "wild_thing\n",
      "will_o_the_wisp\n",
      "wind_dancer\n",
      "yo_yo_rodriguez\n"
     ]
    }
   ],
   "source": [
    "put_data_in_database(u'dc')\n",
    "put_data_in_database(u'marvel')"
   ]
  },
  {
   "cell_type": "code",
   "execution_count": null,
   "metadata": {
    "collapsed": true
   },
   "outputs": [],
   "source": []
  }
 ],
 "metadata": {
  "kernelspec": {
   "display_name": "Python 2",
   "language": "python",
   "name": "python2"
  },
  "language_info": {
   "codemirror_mode": {
    "name": "ipython",
    "version": 2
   },
   "file_extension": ".py",
   "mimetype": "text/x-python",
   "name": "python",
   "nbconvert_exporter": "python",
   "pygments_lexer": "ipython2",
   "version": "2.7.11"
  }
 },
 "nbformat": 4,
 "nbformat_minor": 0
}
